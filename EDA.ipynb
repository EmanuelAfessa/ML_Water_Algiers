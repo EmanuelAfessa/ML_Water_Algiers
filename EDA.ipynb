{
 "cells": [
  {
   "cell_type": "markdown",
   "metadata": {},
   "source": [
    "# EXPLORATORY DATA ANALYSIS _ALGIERS\n"
   ]
  },
  {
   "cell_type": "markdown",
   "metadata": {},
   "source": [
    "## 1. LIBRARIES AND DATA "
   ]
  },
  {
   "cell_type": "code",
   "execution_count": 12,
   "metadata": {},
   "outputs": [],
   "source": [
    "# importing libraries \n",
    "import pandas as pd\n",
    "\n",
    "import darts as dts\n",
    "from darts import TimeSeries\n",
    "from darts.dataprocessing.transformers import Scaler\n",
    "from darts.metrics import *\n",
    "from darts.utils.statistics import check_seasonality, plot_acf, plot_residuals_analysis"
   ]
  },
  {
   "cell_type": "code",
   "execution_count": 8,
   "metadata": {},
   "outputs": [
    {
     "name": "stdout",
     "output_type": "stream",
     "text": [
      "<class 'pandas.core.frame.DataFrame'>\n",
      "RangeIndex: 7913 entries, 0 to 7912\n",
      "Data columns (total 19 columns):\n",
      " #   Column                           Non-Null Count  Dtype  \n",
      "---  ------                           --------------  -----  \n",
      " 0   time                             7913 non-null   object \n",
      " 1   weathercode (wmo code)           7913 non-null   int64  \n",
      " 2   temperature_2m_max (°C)          7913 non-null   float64\n",
      " 3   temperature_2m_min (°C)          7913 non-null   float64\n",
      " 4   temperature_2m_mean (°C)         7913 non-null   float64\n",
      " 5   apparent_temperature_max (°C)    7913 non-null   float64\n",
      " 6   apparent_temperature_min (°C)    7913 non-null   float64\n",
      " 7   apparent_temperature_mean (°C)   7913 non-null   float64\n",
      " 8   sunrise (iso8601)                7913 non-null   object \n",
      " 9   sunset (iso8601)                 7913 non-null   object \n",
      " 10  precipitation_sum (mm)           7913 non-null   float64\n",
      " 11  rain_sum (mm)                    7913 non-null   float64\n",
      " 12  snowfall_sum (cm)                7913 non-null   float64\n",
      " 13  precipitation_hours (h)          7913 non-null   int64  \n",
      " 14  windspeed_10m_max (km/h)         7913 non-null   float64\n",
      " 15  windgusts_10m_max (km/h)         7913 non-null   float64\n",
      " 16  winddirection_10m_dominant (°)   7913 non-null   int64  \n",
      " 17  shortwave_radiation_sum (MJ/m²)  7913 non-null   float64\n",
      " 18  et0_fao_evapotranspiration (mm)  7913 non-null   float64\n",
      "dtypes: float64(13), int64(3), object(3)\n",
      "memory usage: 1.1+ MB\n",
      "None\n"
     ]
    },
    {
     "data": {
      "text/html": [
       "<div>\n",
       "<style scoped>\n",
       "    .dataframe tbody tr th:only-of-type {\n",
       "        vertical-align: middle;\n",
       "    }\n",
       "\n",
       "    .dataframe tbody tr th {\n",
       "        vertical-align: top;\n",
       "    }\n",
       "\n",
       "    .dataframe thead th {\n",
       "        text-align: right;\n",
       "    }\n",
       "</style>\n",
       "<table border=\"1\" class=\"dataframe\">\n",
       "  <thead>\n",
       "    <tr style=\"text-align: right;\">\n",
       "      <th></th>\n",
       "      <th>time</th>\n",
       "      <th>weathercode (wmo code)</th>\n",
       "      <th>temperature_2m_max (°C)</th>\n",
       "      <th>temperature_2m_min (°C)</th>\n",
       "      <th>temperature_2m_mean (°C)</th>\n",
       "      <th>apparent_temperature_max (°C)</th>\n",
       "      <th>apparent_temperature_min (°C)</th>\n",
       "      <th>apparent_temperature_mean (°C)</th>\n",
       "      <th>sunrise (iso8601)</th>\n",
       "      <th>sunset (iso8601)</th>\n",
       "      <th>precipitation_sum (mm)</th>\n",
       "      <th>rain_sum (mm)</th>\n",
       "      <th>snowfall_sum (cm)</th>\n",
       "      <th>precipitation_hours (h)</th>\n",
       "      <th>windspeed_10m_max (km/h)</th>\n",
       "      <th>windgusts_10m_max (km/h)</th>\n",
       "      <th>winddirection_10m_dominant (°)</th>\n",
       "      <th>shortwave_radiation_sum (MJ/m²)</th>\n",
       "      <th>et0_fao_evapotranspiration (mm)</th>\n",
       "    </tr>\n",
       "  </thead>\n",
       "  <tbody>\n",
       "    <tr>\n",
       "      <th>0</th>\n",
       "      <td>2002-01-01</td>\n",
       "      <td>3</td>\n",
       "      <td>15.4</td>\n",
       "      <td>10.5</td>\n",
       "      <td>12.2</td>\n",
       "      <td>11.9</td>\n",
       "      <td>7.5</td>\n",
       "      <td>9.2</td>\n",
       "      <td>2002-01-01T09:00</td>\n",
       "      <td>2002-01-01T18:42</td>\n",
       "      <td>0.0</td>\n",
       "      <td>0.0</td>\n",
       "      <td>0.0</td>\n",
       "      <td>0</td>\n",
       "      <td>25.2</td>\n",
       "      <td>41.8</td>\n",
       "      <td>76</td>\n",
       "      <td>6.89</td>\n",
       "      <td>1.27</td>\n",
       "    </tr>\n",
       "    <tr>\n",
       "      <th>1</th>\n",
       "      <td>2002-01-02</td>\n",
       "      <td>51</td>\n",
       "      <td>16.2</td>\n",
       "      <td>9.8</td>\n",
       "      <td>12.2</td>\n",
       "      <td>14.1</td>\n",
       "      <td>6.7</td>\n",
       "      <td>9.4</td>\n",
       "      <td>2002-01-02T09:00</td>\n",
       "      <td>2002-01-02T18:42</td>\n",
       "      <td>0.6</td>\n",
       "      <td>0.6</td>\n",
       "      <td>0.0</td>\n",
       "      <td>2</td>\n",
       "      <td>19.1</td>\n",
       "      <td>34.6</td>\n",
       "      <td>128</td>\n",
       "      <td>6.93</td>\n",
       "      <td>1.65</td>\n",
       "    </tr>\n",
       "    <tr>\n",
       "      <th>2</th>\n",
       "      <td>2002-01-03</td>\n",
       "      <td>51</td>\n",
       "      <td>17.2</td>\n",
       "      <td>8.4</td>\n",
       "      <td>12.0</td>\n",
       "      <td>15.1</td>\n",
       "      <td>5.2</td>\n",
       "      <td>9.9</td>\n",
       "      <td>2002-01-03T09:00</td>\n",
       "      <td>2002-01-03T18:43</td>\n",
       "      <td>0.1</td>\n",
       "      <td>0.1</td>\n",
       "      <td>0.0</td>\n",
       "      <td>1</td>\n",
       "      <td>13.7</td>\n",
       "      <td>24.1</td>\n",
       "      <td>203</td>\n",
       "      <td>10.43</td>\n",
       "      <td>1.87</td>\n",
       "    </tr>\n",
       "  </tbody>\n",
       "</table>\n",
       "</div>"
      ],
      "text/plain": [
       "         time  weathercode (wmo code)  temperature_2m_max (°C)  \\\n",
       "0  2002-01-01                       3                     15.4   \n",
       "1  2002-01-02                      51                     16.2   \n",
       "2  2002-01-03                      51                     17.2   \n",
       "\n",
       "   temperature_2m_min (°C)  temperature_2m_mean (°C)  \\\n",
       "0                     10.5                      12.2   \n",
       "1                      9.8                      12.2   \n",
       "2                      8.4                      12.0   \n",
       "\n",
       "   apparent_temperature_max (°C)  apparent_temperature_min (°C)  \\\n",
       "0                           11.9                            7.5   \n",
       "1                           14.1                            6.7   \n",
       "2                           15.1                            5.2   \n",
       "\n",
       "   apparent_temperature_mean (°C) sunrise (iso8601)  sunset (iso8601)  \\\n",
       "0                             9.2  2002-01-01T09:00  2002-01-01T18:42   \n",
       "1                             9.4  2002-01-02T09:00  2002-01-02T18:42   \n",
       "2                             9.9  2002-01-03T09:00  2002-01-03T18:43   \n",
       "\n",
       "   precipitation_sum (mm)  rain_sum (mm)  snowfall_sum (cm)  \\\n",
       "0                     0.0            0.0                0.0   \n",
       "1                     0.6            0.6                0.0   \n",
       "2                     0.1            0.1                0.0   \n",
       "\n",
       "   precipitation_hours (h)  windspeed_10m_max (km/h)  \\\n",
       "0                        0                      25.2   \n",
       "1                        2                      19.1   \n",
       "2                        1                      13.7   \n",
       "\n",
       "   windgusts_10m_max (km/h)  winddirection_10m_dominant (°)  \\\n",
       "0                      41.8                              76   \n",
       "1                      34.6                             128   \n",
       "2                      24.1                             203   \n",
       "\n",
       "   shortwave_radiation_sum (MJ/m²)  et0_fao_evapotranspiration (mm)  \n",
       "0                             6.89                             1.27  \n",
       "1                             6.93                             1.65  \n",
       "2                            10.43                             1.87  "
      ]
     },
     "execution_count": 8,
     "metadata": {},
     "output_type": "execute_result"
    }
   ],
   "source": [
    "# importing dataset for Algiers\n",
    "df_alg = pd.read_csv('data/alg_we.csv.csv', delimiter=',')\n",
    "print(df_alg.info())\n",
    "df_alg.head(3)"
   ]
  },
  {
   "cell_type": "markdown",
   "metadata": {},
   "source": [
    "## 2. TIME SERIES EXPLORATION"
   ]
  },
  {
   "cell_type": "code",
   "execution_count": 10,
   "metadata": {},
   "outputs": [
    {
     "data": {
      "text/plain": [
       "<Axes: xlabel='time'>"
      ]
     },
     "execution_count": 10,
     "metadata": {},
     "output_type": "execute_result"
    },
    {
     "data": {
      "image/png": "[encoded data removed]",
      "text/plain": [
       "<Figure size 640x480 with 1 Axes>"
      ]
     },
     "metadata": {},
     "output_type": "display_data"
    }
   ],
   "source": [
    "# plot time series\n",
    "series_alg = TimeSeries.from_dataframe(df_alg, 'time', 'precipitation_sum (mm)')\n",
    "series_alg.plot()"
   ]
  },
  {
   "cell_type": "code",
   "execution_count": 13,
   "metadata": {},
   "outputs": [
    {
     "data": {
      "text/plain": [
       "(True, 6)"
      ]
     },
     "execution_count": 13,
     "metadata": {},
     "output_type": "execute_result"
    }
   ],
   "source": [
    "dts.utils.statistics.check_seasonality(series_alg, m=None, max_lag=24, alpha=0.05)"
   ]
  },
  {
   "cell_type": "code",
   "execution_count": 14,
   "metadata": {},
   "outputs": [
    {
     "data": {
      "image/png": "[encoded data removed]",
      "text/plain": [
       "<Figure size 1000x500 with 1 Axes>"
      ]
     },
     "metadata": {},
     "output_type": "display_data"
    }
   ],
   "source": [
    "dts.utils.statistics.plot_acf(series_alg, m=None, max_lag=24, alpha=0.05, bartlett_confint=True, fig_size=(10, 5), axis=None, default_formatting=True)"
   ]
  },
  {
   "cell_type": "code",
   "execution_count": null,
   "metadata": {},
   "outputs": [],
   "source": []
  }
 ],
 "metadata": {
  "kernelspec": {
   "display_name": "base",
   "language": "python",
   "name": "python3"
  },
  "language_info": {
   "codemirror_mode": {
    "name": "ipython",
    "version": 3
   },
   "file_extension": ".py",
   "mimetype": "text/x-python",
   "name": "python",
   "nbconvert_exporter": "python",
   "pygments_lexer": "ipython3",
   "version": "3.9.16"
  }
 },
 "nbformat": 4,
 "nbformat_minor": 2
}
